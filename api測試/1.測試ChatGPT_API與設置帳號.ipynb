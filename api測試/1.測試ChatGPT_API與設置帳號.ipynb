{
  "nbformat": 4,
  "nbformat_minor": 0,
  "metadata": {
    "colab": {
      "provenance": []
    },
    "kernelspec": {
      "name": "python3",
      "display_name": "Python 3"
    },
    "language_info": {
      "name": "python"
    }
  },
  "cells": [
    {
      "cell_type": "code",
      "execution_count": 1,
      "metadata": {
        "colab": {
          "base_uri": "https://localhost:8080/"
        },
        "id": "g5JaNyiKhfpL",
        "outputId": "f06183c3-7171-497a-dab8-349dde8d75be"
      },
      "outputs": [
        {
          "output_type": "stream",
          "name": "stdout",
          "text": [
            "Looking in indexes: https://pypi.org/simple, https://us-python.pkg.dev/colab-wheels/public/simple/\n",
            "Collecting openai\n",
            "  Downloading openai-0.27.0-py3-none-any.whl (70 kB)\n",
            "\u001b[2K     \u001b[90m━━━━━━━━━━━━━━━━━━━━━━━━━━━━━━━━━━━━━━━━\u001b[0m \u001b[32m70.1/70.1 KB\u001b[0m \u001b[31m3.1 MB/s\u001b[0m eta \u001b[36m0:00:00\u001b[0m\n",
            "\u001b[?25hRequirement already satisfied: requests>=2.20 in /usr/local/lib/python3.8/dist-packages (from openai) (2.25.1)\n",
            "Requirement already satisfied: tqdm in /usr/local/lib/python3.8/dist-packages (from openai) (4.64.1)\n",
            "Requirement already satisfied: aiohttp in /usr/local/lib/python3.8/dist-packages (from openai) (3.8.4)\n",
            "Requirement already satisfied: idna<3,>=2.5 in /usr/local/lib/python3.8/dist-packages (from requests>=2.20->openai) (2.10)\n",
            "Requirement already satisfied: urllib3<1.27,>=1.21.1 in /usr/local/lib/python3.8/dist-packages (from requests>=2.20->openai) (1.26.14)\n",
            "Requirement already satisfied: certifi>=2017.4.17 in /usr/local/lib/python3.8/dist-packages (from requests>=2.20->openai) (2022.12.7)\n",
            "Requirement already satisfied: chardet<5,>=3.0.2 in /usr/local/lib/python3.8/dist-packages (from requests>=2.20->openai) (4.0.0)\n",
            "Requirement already satisfied: attrs>=17.3.0 in /usr/local/lib/python3.8/dist-packages (from aiohttp->openai) (22.2.0)\n",
            "Requirement already satisfied: aiosignal>=1.1.2 in /usr/local/lib/python3.8/dist-packages (from aiohttp->openai) (1.3.1)\n",
            "Requirement already satisfied: multidict<7.0,>=4.5 in /usr/local/lib/python3.8/dist-packages (from aiohttp->openai) (6.0.4)\n",
            "Requirement already satisfied: async-timeout<5.0,>=4.0.0a3 in /usr/local/lib/python3.8/dist-packages (from aiohttp->openai) (4.0.2)\n",
            "Requirement already satisfied: yarl<2.0,>=1.0 in /usr/local/lib/python3.8/dist-packages (from aiohttp->openai) (1.8.2)\n",
            "Requirement already satisfied: charset-normalizer<4.0,>=2.0 in /usr/local/lib/python3.8/dist-packages (from aiohttp->openai) (3.0.1)\n",
            "Requirement already satisfied: frozenlist>=1.1.1 in /usr/local/lib/python3.8/dist-packages (from aiohttp->openai) (1.3.3)\n",
            "Installing collected packages: openai\n",
            "Successfully installed openai-0.27.0\n"
          ]
        }
      ],
      "source": [
        "!pip install openai"
      ]
    },
    {
      "cell_type": "markdown",
      "source": [
        "api設定: https://platform.openai.com/account/billing/overview"
      ],
      "metadata": {
        "id": "yOzcwT1R1RMe"
      }
    },
    {
      "cell_type": "markdown",
      "source": [
        "範例在: https://platform.openai.com/docs/guides/chat/introduction"
      ],
      "metadata": {
        "id": "Gw49k3iViIit"
      }
    },
    {
      "cell_type": "code",
      "source": [
        "# Note: you need to be using OpenAI Python v0.27.0 for the code below to work\n",
        "import openai\n",
        "\n",
        "openai.api_key = '...'\n",
        "\n",
        "response = openai.ChatCompletion.create(\n",
        "  model=\"gpt-3.5-turbo\",\n",
        "  messages=[\n",
        "        {\"role\": \"system\", \"content\": \"You are a helpful assistant.\"},\n",
        "        {\"role\": \"user\", \"content\": \"Who won the world series in 2020?\"},\n",
        "        {\"role\": \"assistant\", \"content\": \"The Los Angeles Dodgers won the World Series in 2020.\"},\n",
        "        {\"role\": \"user\", \"content\": \"Where was it played?\"}\n",
        "    ]\n",
        ")\n",
        "\n",
        "print(response)\n",
        "print(response['choices'][0]['message']['content'])"
      ],
      "metadata": {
        "colab": {
          "base_uri": "https://localhost:8080/"
        },
        "id": "k3oPQK8giLxM",
        "outputId": "0006083a-6524-4c50-96fc-01dc076e7f14"
      },
      "execution_count": 20,
      "outputs": [
        {
          "output_type": "stream",
          "name": "stdout",
          "text": [
            "{\n",
            "  \"choices\": [\n",
            "    {\n",
            "      \"finish_reason\": \"stop\",\n",
            "      \"index\": 0,\n",
            "      \"message\": {\n",
            "        \"content\": \"The 2020 World Series was played at two ballparks: Globe Life Field in Arlington, Texas (home of the Texas Rangers) and Dodger Stadium in Los Angeles, California (home of the Los Angeles Dodgers).\",\n",
            "        \"role\": \"assistant\"\n",
            "      }\n",
            "    }\n",
            "  ],\n",
            "  \"created\": 1677986162,\n",
            "  \"id\": \"chatcmpl-6qZ8snRBWZzLjV29MSRqnoLKpLxuI\",\n",
            "  \"model\": \"gpt-3.5-turbo-0301\",\n",
            "  \"object\": \"chat.completion\",\n",
            "  \"usage\": {\n",
            "    \"completion_tokens\": 47,\n",
            "    \"prompt_tokens\": 56,\n",
            "    \"total_tokens\": 103\n",
            "  }\n",
            "}\n",
            "The 2020 World Series was played at two ballparks: Globe Life Field in Arlington, Texas (home of the Texas Rangers) and Dodger Stadium in Los Angeles, California (home of the Los Angeles Dodgers).\n"
          ]
        }
      ]
    },
    {
      "cell_type": "code",
      "source": [
        "response = openai.ChatCompletion.create(\n",
        "  model=\"gpt-3.5-turbo\",\n",
        "  messages=[\n",
        "        {\"role\": \"user\", \"content\": \"寫一個python程式將一個wav文件切分成相等的10分\"}\n",
        "    ]\n",
        ")\n",
        "\n",
        "print(response)\n",
        "print(response['choices'][0]['message']['content'])"
      ],
      "metadata": {
        "colab": {
          "base_uri": "https://localhost:8080/"
        },
        "id": "5ZDiNLQY0Xh_",
        "outputId": "8d06cad0-c6a1-4f5d-819c-a9dcd8cf1f0f"
      },
      "execution_count": 21,
      "outputs": [
        {
          "output_type": "stream",
          "name": "stdout",
          "text": [
            "{\n",
            "  \"choices\": [\n",
            "    {\n",
            "      \"finish_reason\": \"stop\",\n",
            "      \"index\": 0,\n",
            "      \"message\": {\n",
            "        \"content\": \"\\n\\n\\u4ee5\\u4e0b\\u70ba Python \\u7a0b\\u5f0f\\u78bc\\uff0c\\u8acb\\u78ba\\u4fdd\\u5df2\\u5b89\\u88dd wave \\u6a21\\u7d44\\uff1a\\n\\n```python\\nimport os\\nimport wave\\n\\n# \\u8a2d\\u5b9a\\u8981\\u5207\\u5206\\u7684\\u97f3\\u6a94\\u8def\\u5f91\\u4ee5\\u53ca\\u76ee\\u6a19\\u5207\\u5272\\u79d2\\u6578\\nfilename = \\\"audio.wav\\\"\\nsplit_seconds = 10\\n\\n# \\u6253\\u958b\\u97f3\\u6a94\\uff0c\\u53d6\\u5f97\\u76f8\\u95dc\\u8cc7\\u8a0a\\nwith wave.open(filename, 'rb') as wave_read:\\n    n_channels = wave_read.getnchannels()\\n    sample_width = wave_read.getsampwidth()\\n    frame_rate = wave_read.getframerate()\\n    n_frames = wave_read.getnframes()\\n    # \\u8a08\\u7b97\\u9700\\u8981\\u5207\\u5272\\u6210\\u5e7e\\u500b\\u5c0f\\u97f3\\u6a94\\n    n_splits = int(n_frames / (frame_rate * split_seconds)) + 1\\n\\n# \\u9032\\u884c\\u5207\\u5272\\nwith wave.open(filename, 'rb') as wave_read:\\n    for i in range(n_splits):\\n        # \\u8a08\\u7b97\\u5207\\u5272\\u8d77\\u9ede\\u548c\\u7d42\\u9ede\\u7684 frame \\u7de8\\u865f\\n        start_frame = i * frame_rate * split_seconds\\n        end_frame = (i+1) * frame_rate * split_seconds\\n        if end_frame > n_frames:\\n            end_frame = n_frames\\n        # \\u8a2d\\u5b9a\\u65b0\\u7684\\u6a94\\u540d\\u548c\\u8def\\u5f91\\n        path, ext = os.path.splitext(filename)\\n        new_filename = f\\\"{path}_{i+1}{ext}\\\"\\n        # \\u5efa\\u7acb\\u65b0\\u7684 wave \\u6a94\\u6848\\uff0c\\u5beb\\u5165\\u8cc7\\u8a0a\\n        with wave.open(new_filename, 'wb') as wave_write:\\n            wave_write.setnchannels(n_channels)\\n            wave_write.setsampwidth(sample_width)\\n            wave_write.setframerate(frame_rate)\\n            # \\u8b80\\u53d6\\u8981\\u5beb\\u5165\\u7684\\u8cc7\\u6599\\uff0c\\u5beb\\u5165\\u65b0\\u7684\\u6a94\\u6848\\n            wave_read.setpos(start_frame)\\n            wave_write.writeframes(wave_read.readframes(end_frame - start_frame))\\n```\\n\\n\\u4f7f\\u7528\\u6642\\uff0c\\u53ea\\u9700\\u8981\\u4fee\\u6539\\u7a0b\\u5f0f\\u78bc\\u7b2c 3~4 \\u884c\\u7684 `filename` \\u548c `split_seconds` \\u8b8a\\u6578\\u5373\\u53ef\\u3002\\u7a0b\\u5f0f\\u6703\\u4f9d\\u7167\\u8a2d\\u5b9a\\u7684\\u79d2\\u6578\\u9032\\u884c\\u5207\\u5272\\uff0c\\u6bcf\\u500b\\u5207\\u5272\\u51fa\\u4f86\\u7684\\u97f3\\u6a94\\u9810\\u8a2d\\u4ee5 `_1`\\u3001`_2`\\u3001`_3` ... \\u7684\\u65b9\\u5f0f\\u7de8\\u865f\\uff0c\\u4e26\\u5b58\\u6a94\\u70ba\\u8207\\u539f\\u59cb\\u6a94\\u6848\\u76f8\\u540c\\u7684\\u683c\\u5f0f\\u3002\\n\\n\\u6ce8\\u610f\\uff0c\\u6b64\\u7a0b\\u5f0f\\u4e0d\\u6703\\u8655\\u7406\\u58d3\\u7e2e\\u683c\\u5f0f\\u7684\\u97f3\\u6a94\\uff0c\\u800c\\u4e14\\u5207\\u5272\\u8d77\\u59cb\\u9ede\\u53ef\\u80fd\\u6703\\u4e0d\\u4f9d\\u64da\\u97f3\\u6a02\\u62cd\\u5b50\\uff0c\\u56e0\\u6b64\\u53ef\\u80fd\\u6703\\u6709\\u5e7e\\u6beb\\u79d2\\u7684\\u8aa4\\u5dee\\u3002\\u5982\\u679c\\u9700\\u8981\\u66f4\\u7cbe\\u6e96\\u7684\\u5207\\u5272\\uff0c\\u53ef\\u4ee5\\u4f7f\\u7528\\u76f8\\u95dc\\u7684\\u97f3\\u6a02\\u8655\\u7406\\u8edf\\u9ad4\\u3002\",\n",
            "        \"role\": \"assistant\"\n",
            "      }\n",
            "    }\n",
            "  ],\n",
            "  \"created\": 1677987098,\n",
            "  \"id\": \"chatcmpl-6qZNy7NBF3rdvg4YpGh6rSfGjfu0r\",\n",
            "  \"model\": \"gpt-3.5-turbo-0301\",\n",
            "  \"object\": \"chat.completion\",\n",
            "  \"usage\": {\n",
            "    \"completion_tokens\": 666,\n",
            "    \"prompt_tokens\": 31,\n",
            "    \"total_tokens\": 697\n",
            "  }\n",
            "}\n",
            "\n",
            "\n",
            "以下為 Python 程式碼，請確保已安裝 wave 模組：\n",
            "\n",
            "```python\n",
            "import os\n",
            "import wave\n",
            "\n",
            "# 設定要切分的音檔路徑以及目標切割秒數\n",
            "filename = \"audio.wav\"\n",
            "split_seconds = 10\n",
            "\n",
            "# 打開音檔，取得相關資訊\n",
            "with wave.open(filename, 'rb') as wave_read:\n",
            "    n_channels = wave_read.getnchannels()\n",
            "    sample_width = wave_read.getsampwidth()\n",
            "    frame_rate = wave_read.getframerate()\n",
            "    n_frames = wave_read.getnframes()\n",
            "    # 計算需要切割成幾個小音檔\n",
            "    n_splits = int(n_frames / (frame_rate * split_seconds)) + 1\n",
            "\n",
            "# 進行切割\n",
            "with wave.open(filename, 'rb') as wave_read:\n",
            "    for i in range(n_splits):\n",
            "        # 計算切割起點和終點的 frame 編號\n",
            "        start_frame = i * frame_rate * split_seconds\n",
            "        end_frame = (i+1) * frame_rate * split_seconds\n",
            "        if end_frame > n_frames:\n",
            "            end_frame = n_frames\n",
            "        # 設定新的檔名和路徑\n",
            "        path, ext = os.path.splitext(filename)\n",
            "        new_filename = f\"{path}_{i+1}{ext}\"\n",
            "        # 建立新的 wave 檔案，寫入資訊\n",
            "        with wave.open(new_filename, 'wb') as wave_write:\n",
            "            wave_write.setnchannels(n_channels)\n",
            "            wave_write.setsampwidth(sample_width)\n",
            "            wave_write.setframerate(frame_rate)\n",
            "            # 讀取要寫入的資料，寫入新的檔案\n",
            "            wave_read.setpos(start_frame)\n",
            "            wave_write.writeframes(wave_read.readframes(end_frame - start_frame))\n",
            "```\n",
            "\n",
            "使用時，只需要修改程式碼第 3~4 行的 `filename` 和 `split_seconds` 變數即可。程式會依照設定的秒數進行切割，每個切割出來的音檔預設以 `_1`、`_2`、`_3` ... 的方式編號，並存檔為與原始檔案相同的格式。\n",
            "\n",
            "注意，此程式不會處理壓縮格式的音檔，而且切割起始點可能會不依據音樂拍子，因此可能會有幾毫秒的誤差。如果需要更精準的切割，可以使用相關的音樂處理軟體。\n"
          ]
        }
      ]
    }
  ]
}