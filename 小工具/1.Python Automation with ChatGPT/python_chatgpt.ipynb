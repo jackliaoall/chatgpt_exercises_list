{
  "nbformat": 4,
  "nbformat_minor": 0,
  "metadata": {
    "colab": {
      "provenance": []
    },
    "kernelspec": {
      "name": "python3",
      "display_name": "Python 3"
    },
    "language_info": {
      "name": "python"
    }
  },
  "cells": [
    {
      "cell_type": "markdown",
      "source": [
        "Ref: https://gitlab.com/nanuchi/python-automation-chatgpt/-/blob/master/python-chatgpt.py"
      ],
      "metadata": {
        "id": "7vk1m8KGHppm"
      }
    },
    {
      "cell_type": "code",
      "source": [
        "import requests\n",
        "import argparse\n",
        "import os\n",
        "\n",
        "#parser = argparse.ArgumentParser()\n",
        "#parser.add_argument(\"prompt\", help=\"The prompt to send to the OpenAI API\")\n",
        "#parser.add_argument(\"file_name\", help=\"Name of the file to save Python script\")\n",
        "#args = parser.parse_args()\n",
        "\n",
        "args = {\n",
        "  \"prompt\": \"extract all html headers from a web page, translate to Spanish and save the result into an html file\",\n",
        "  \"file_name\": \"extract-translate-headers.py\"\n",
        "}\n",
        "\n",
        "api_endpoint = \"https://api.openai.com/v1/completions\"\n",
        "api_key = \"\"\n",
        "\n",
        "request_headers = {\n",
        "    \"Content-Type\": \"application/json\",\n",
        "    \"Authorization\": \"Bearer \" + api_key\n",
        "}\n",
        "\n",
        "request_data = {\n",
        "    \"model\": \"text-davinci-003\",\n",
        "    \"prompt\": f\"Write python script to {args['prompt']}. Provide only code, no text\",\n",
        "    \"max_tokens\": 500,\n",
        "    \"temperature\": 0.5\n",
        "}\n",
        "\n",
        "response = requests.post(api_endpoint, headers=request_headers, json=request_data)\n",
        "\n",
        "if response.status_code == 200:\n",
        "    response_text = response.json()[\"choices\"][0][\"text\"]\n",
        "    with open(args['file_name'], \"w\") as file:\n",
        "        file.write(response_text)\n",
        "else:\n",
        "    print(f\"Request failed with status code: {str(response.status_code)}\")"
      ],
      "metadata": {
        "id": "Tiy0ADn7Gx3E"
      },
      "execution_count": 8,
      "outputs": []
    }
  ]
}